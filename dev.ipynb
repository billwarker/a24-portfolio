{
 "cells": [
  {
   "cell_type": "markdown",
   "id": "8b47b637-aad5-4233-9488-e9e5a2754ed7",
   "metadata": {},
   "source": [
    "## Get data from Wikipedia\n",
    "\n",
    "https://en.wikipedia.org/wiki/List_of_A24_films"
   ]
  },
  {
   "cell_type": "code",
   "execution_count": 1,
   "id": "b1eea694-df53-49a4-b449-b492580afdf8",
   "metadata": {
    "tags": []
   },
   "outputs": [],
   "source": [
    "import pandas as pd\n",
    "import numpy as np\n",
    "import requests as rq\n",
    "from bs4 import BeautifulSoup\n",
    "import re\n",
    "\n",
    "import sys"
   ]
  },
  {
   "cell_type": "code",
   "execution_count": 2,
   "id": "47be49aa-a4f5-4949-814d-f82def717f98",
   "metadata": {},
   "outputs": [
    {
     "data": {
      "text/plain": [
       "'3.10.5 (v3.10.5:f377153967, Jun  6 2022, 12:36:10) [Clang 13.0.0 (clang-1300.0.29.30)]'"
      ]
     },
     "execution_count": 2,
     "metadata": {},
     "output_type": "execute_result"
    }
   ],
   "source": [
    "sys.version"
   ]
  },
  {
   "cell_type": "code",
   "execution_count": 3,
   "id": "f15457ef-f1fd-488f-8447-70bdf19e098c",
   "metadata": {},
   "outputs": [],
   "source": [
    "wiki_films_url = 'https://en.wikipedia.org/wiki/List_of_A24_films'\n",
    "\n",
    "page = rq.get(url=wiki_films_url)\n",
    "soup = BeautifulSoup(page.text, 'html.parser')\n",
    "\n",
    "for h in soup.find_all('h3'):\n",
    "    h.name = 'h2'"
   ]
  },
  {
   "cell_type": "code",
   "execution_count": 4,
   "id": "dac4d81c-345a-4566-b4c7-2338d0aaf81a",
   "metadata": {},
   "outputs": [],
   "source": [
    "tables = soup.find_all('table')"
   ]
  },
  {
   "cell_type": "code",
   "execution_count": 5,
   "id": "23238b15-f5f9-4aac-b0dd-86a3a0d1e347",
   "metadata": {},
   "outputs": [],
   "source": [
    "table_data = []"
   ]
  },
  {
   "cell_type": "code",
   "execution_count": 6,
   "id": "d260d232-85d0-4951-ba32-1e9cc225cb66",
   "metadata": {},
   "outputs": [],
   "source": [
    "for t in tables:\n",
    "    \n",
    "    page_section = t.find_previous('h2').text.removesuffix('[edit]')\n",
    "    t_header = t.find_all('tr')[0]\n",
    "    t_header_cols = [th.text.strip().removesuffix('[a]') for th in t_header.find_all('th')]\n",
    "    \n",
    "    t_header_cols_fmt = []\n",
    "    \n",
    "    for col in t_header_cols:\n",
    "        col = col.lower()\n",
    "        col = col.replace(r' ', '_')\n",
    "        col = re.sub(\"\\(.*\\)|\\[.*\\]|\\.\", \"\", col)\n",
    "        t_header_cols_fmt.append(col)\n",
    "        \n",
    "    data = {}\n",
    "    \n",
    "    for row_ix, row in enumerate(t.find_all('tr')[1:]):\n",
    "        data[row_ix] = {}\n",
    "        \n",
    "        for th in row.find_all('th'):\n",
    "            th.name = 'td'\n",
    "                        \n",
    "        for col_ix, col in enumerate(row.find_all('td')):\n",
    "            \n",
    "            text_fmt = re.sub(\"\\[.*\\]|\", \"\", col.text)\n",
    "            text_fmt = text_fmt.strip()\n",
    "\n",
    "            data[row_ix][t_header_cols_fmt[col_ix]] = text_fmt\n",
    "            \n",
    "    table_data.append((page_section, data))\n"
   ]
  },
  {
   "cell_type": "code",
   "execution_count": 7,
   "id": "ade8d74a-0998-46e8-ad19-2731ad5e1e5e",
   "metadata": {},
   "outputs": [],
   "source": [
    "valid_sections = ['2010s', '2020s', 'Dated films'] "
   ]
  },
  {
   "cell_type": "code",
   "execution_count": 8,
   "id": "073a8a01-44ff-4f2e-9730-b7841a3d084b",
   "metadata": {},
   "outputs": [],
   "source": [
    "df = pd.concat([pd.DataFrame.from_dict(t[1], orient='index') for t in table_data if t[0] in valid_sections], ignore_index=True)"
   ]
  },
  {
   "cell_type": "code",
   "execution_count": 9,
   "id": "7da9124e-4150-44d2-a36d-2fe4130d3edd",
   "metadata": {},
   "outputs": [
    {
     "data": {
      "text/html": [
       "<div>\n",
       "<style scoped>\n",
       "    .dataframe tbody tr th:only-of-type {\n",
       "        vertical-align: middle;\n",
       "    }\n",
       "\n",
       "    .dataframe tbody tr th {\n",
       "        vertical-align: top;\n",
       "    }\n",
       "\n",
       "    .dataframe thead th {\n",
       "        text-align: right;\n",
       "    }\n",
       "</style>\n",
       "<table border=\"1\" class=\"dataframe\">\n",
       "  <thead>\n",
       "    <tr style=\"text-align: right;\">\n",
       "      <th></th>\n",
       "      <th>release_date</th>\n",
       "      <th>title</th>\n",
       "      <th>director</th>\n",
       "      <th>synopsis</th>\n",
       "      <th>notes</th>\n",
       "      <th>ref</th>\n",
       "    </tr>\n",
       "  </thead>\n",
       "  <tbody>\n",
       "    <tr>\n",
       "      <th>0</th>\n",
       "      <td>February 8, 2013</td>\n",
       "      <td>A Glimpse Inside the Mind of Charles Swan III</td>\n",
       "      <td>Roman Coppola</td>\n",
       "      <td>Charles' life falls apart when his girlfriend ...</td>\n",
       "      <td></td>\n",
       "      <td></td>\n",
       "    </tr>\n",
       "    <tr>\n",
       "      <th>1</th>\n",
       "      <td>March 15, 2013</td>\n",
       "      <td>Ginger &amp; Rosa</td>\n",
       "      <td>Sally Potter</td>\n",
       "      <td>In 1960s London, a teenager's best friend fall...</td>\n",
       "      <td></td>\n",
       "      <td></td>\n",
       "    </tr>\n",
       "    <tr>\n",
       "      <th>2</th>\n",
       "      <td>March 15, 2013</td>\n",
       "      <td>Spring Breakers</td>\n",
       "      <td>Harmony Korine</td>\n",
       "      <td>During their spring break in Florida, four col...</td>\n",
       "      <td></td>\n",
       "      <td></td>\n",
       "    </tr>\n",
       "    <tr>\n",
       "      <th>3</th>\n",
       "      <td>June 14, 2013</td>\n",
       "      <td>The Bling Ring</td>\n",
       "      <td>Sofia Coppola</td>\n",
       "      <td>A group of fame-obsessed teenagers known as th...</td>\n",
       "      <td></td>\n",
       "      <td></td>\n",
       "    </tr>\n",
       "    <tr>\n",
       "      <th>4</th>\n",
       "      <td>August 2, 2013</td>\n",
       "      <td>The Spectacular Now</td>\n",
       "      <td>James Ponsoldt</td>\n",
       "      <td>An encounter between high schoolers Sutton and...</td>\n",
       "      <td></td>\n",
       "      <td></td>\n",
       "    </tr>\n",
       "    <tr>\n",
       "      <th>...</th>\n",
       "      <td>...</td>\n",
       "      <td>...</td>\n",
       "      <td>...</td>\n",
       "      <td>...</td>\n",
       "      <td>...</td>\n",
       "      <td>...</td>\n",
       "    </tr>\n",
       "    <tr>\n",
       "      <th>152</th>\n",
       "      <td>January 12, 2024</td>\n",
       "      <td>My Mercury</td>\n",
       "      <td>Joelle Chesselet, Philippa Ehrlich</td>\n",
       "      <td>A passionate conservationist makes a cruel pac...</td>\n",
       "      <td>Also produced by A24, distributed by Amazon Pr...</td>\n",
       "      <td></td>\n",
       "    </tr>\n",
       "    <tr>\n",
       "      <th>153</th>\n",
       "      <td>January 23, 2024</td>\n",
       "      <td>Open Wide</td>\n",
       "      <td>Sara Goldblatt</td>\n",
       "      <td>John Mew thinks we're all ugly. And modern liv...</td>\n",
       "      <td>Also produced by A24; distributed by Netflix</td>\n",
       "      <td></td>\n",
       "    </tr>\n",
       "    <tr>\n",
       "      <th>154</th>\n",
       "      <td>March 1, 2024</td>\n",
       "      <td>Problemista</td>\n",
       "      <td>Julio Torres</td>\n",
       "      <td>A struggling aspiring toy designer from El Sal...</td>\n",
       "      <td>Also produced by A24</td>\n",
       "      <td></td>\n",
       "    </tr>\n",
       "    <tr>\n",
       "      <th>155</th>\n",
       "      <td>March 8, 2024</td>\n",
       "      <td>Love Lies Bleeding</td>\n",
       "      <td>Rose Glass</td>\n",
       "      <td>Reclusive gym manager Lou falls hard for Jacki...</td>\n",
       "      <td>Also produced by A24</td>\n",
       "      <td></td>\n",
       "    </tr>\n",
       "    <tr>\n",
       "      <th>156</th>\n",
       "      <td>April 12, 2024</td>\n",
       "      <td>Civil War</td>\n",
       "      <td>Alex Garland</td>\n",
       "      <td>The United States stands on the brink of civil...</td>\n",
       "      <td>Also produced by A24</td>\n",
       "      <td></td>\n",
       "    </tr>\n",
       "  </tbody>\n",
       "</table>\n",
       "<p>157 rows × 6 columns</p>\n",
       "</div>"
      ],
      "text/plain": [
       "         release_date                                          title  \\\n",
       "0    February 8, 2013  A Glimpse Inside the Mind of Charles Swan III   \n",
       "1      March 15, 2013                                  Ginger & Rosa   \n",
       "2      March 15, 2013                                Spring Breakers   \n",
       "3       June 14, 2013                                 The Bling Ring   \n",
       "4      August 2, 2013                            The Spectacular Now   \n",
       "..                ...                                            ...   \n",
       "152  January 12, 2024                                     My Mercury   \n",
       "153  January 23, 2024                                      Open Wide   \n",
       "154     March 1, 2024                                    Problemista   \n",
       "155     March 8, 2024                             Love Lies Bleeding   \n",
       "156    April 12, 2024                                      Civil War   \n",
       "\n",
       "                               director  \\\n",
       "0                         Roman Coppola   \n",
       "1                          Sally Potter   \n",
       "2                        Harmony Korine   \n",
       "3                         Sofia Coppola   \n",
       "4                        James Ponsoldt   \n",
       "..                                  ...   \n",
       "152  Joelle Chesselet, Philippa Ehrlich   \n",
       "153                      Sara Goldblatt   \n",
       "154                        Julio Torres   \n",
       "155                          Rose Glass   \n",
       "156                        Alex Garland   \n",
       "\n",
       "                                              synopsis  \\\n",
       "0    Charles' life falls apart when his girlfriend ...   \n",
       "1    In 1960s London, a teenager's best friend fall...   \n",
       "2    During their spring break in Florida, four col...   \n",
       "3    A group of fame-obsessed teenagers known as th...   \n",
       "4    An encounter between high schoolers Sutton and...   \n",
       "..                                                 ...   \n",
       "152  A passionate conservationist makes a cruel pac...   \n",
       "153  John Mew thinks we're all ugly. And modern liv...   \n",
       "154  A struggling aspiring toy designer from El Sal...   \n",
       "155  Reclusive gym manager Lou falls hard for Jacki...   \n",
       "156  The United States stands on the brink of civil...   \n",
       "\n",
       "                                                 notes ref  \n",
       "0                                                           \n",
       "1                                                           \n",
       "2                                                           \n",
       "3                                                           \n",
       "4                                                           \n",
       "..                                                 ...  ..  \n",
       "152  Also produced by A24, distributed by Amazon Pr...      \n",
       "153       Also produced by A24; distributed by Netflix      \n",
       "154                               Also produced by A24      \n",
       "155                               Also produced by A24      \n",
       "156                               Also produced by A24      \n",
       "\n",
       "[157 rows x 6 columns]"
      ]
     },
     "execution_count": 9,
     "metadata": {},
     "output_type": "execute_result"
    }
   ],
   "source": [
    "df"
   ]
  },
  {
   "cell_type": "code",
   "execution_count": 10,
   "id": "d0d336df-b0b1-41c0-8d16-5cbaa63f9678",
   "metadata": {},
   "outputs": [],
   "source": [
    "df = df.drop(labels=[\"ref\"], axis=1)"
   ]
  },
  {
   "cell_type": "code",
   "execution_count": 23,
   "id": "f4eb34cb-e2cc-4561-bfca-8974164b5b4f",
   "metadata": {},
   "outputs": [],
   "source": [
    "df.release_date = pd.to_datetime(df.release_date)"
   ]
  },
  {
   "cell_type": "code",
   "execution_count": 24,
   "id": "d4d10217-a7c7-458f-b3e7-a78474caabf6",
   "metadata": {},
   "outputs": [
    {
     "name": "stdout",
     "output_type": "stream",
     "text": [
      "<class 'pandas.core.frame.DataFrame'>\n",
      "RangeIndex: 157 entries, 0 to 156\n",
      "Data columns (total 5 columns):\n",
      " #   Column        Non-Null Count  Dtype         \n",
      "---  ------        --------------  -----         \n",
      " 0   release_date  157 non-null    datetime64[ns]\n",
      " 1   title         157 non-null    object        \n",
      " 2   director      157 non-null    object        \n",
      " 3   synopsis      157 non-null    object        \n",
      " 4   notes         157 non-null    object        \n",
      "dtypes: datetime64[ns](1), object(4)\n",
      "memory usage: 6.3+ KB\n"
     ]
    }
   ],
   "source": [
    "df.info()"
   ]
  },
  {
   "cell_type": "markdown",
   "id": "b521ea61-bc90-4ff8-ab12-3fa23eb43501",
   "metadata": {},
   "source": [
    "## Write to BQ"
   ]
  },
  {
   "cell_type": "code",
   "execution_count": 26,
   "id": "9fbcbecf-56e7-4457-9c58-b8cbcccecf70",
   "metadata": {},
   "outputs": [],
   "source": [
    "from google.cloud import bigquery"
   ]
  },
  {
   "cell_type": "code",
   "execution_count": 27,
   "id": "cf2c4375-97a1-495a-ac86-cd191ef4c801",
   "metadata": {},
   "outputs": [],
   "source": [
    "schema = []\n",
    "\n",
    "for col, dtype in zip(df.columns, df.dtypes):\n",
    "\n",
    "    if col == 'release_date':\n",
    "        bq_dtype = bigquery.enums.SqlTypeNames.DATE\n",
    "    else:\n",
    "        bq_dtype = bigquery.enums.SqlTypeNames.STRING\n",
    "    \n",
    "    bq_col = bigquery.SchemaField(col, bq_dtype)\n",
    "    \n",
    "    schema.append(bq_col)"
   ]
  },
  {
   "cell_type": "code",
   "execution_count": 28,
   "id": "181637ac-65a1-49a9-b9f4-4e98d6dc7757",
   "metadata": {},
   "outputs": [
    {
     "data": {
      "text/plain": [
       "[SchemaField('release_date', 'DATE', 'NULLABLE', None, None, (), None),\n",
       " SchemaField('title', 'STRING', 'NULLABLE', None, None, (), None),\n",
       " SchemaField('director', 'STRING', 'NULLABLE', None, None, (), None),\n",
       " SchemaField('synopsis', 'STRING', 'NULLABLE', None, None, (), None),\n",
       " SchemaField('notes', 'STRING', 'NULLABLE', None, None, (), None)]"
      ]
     },
     "execution_count": 28,
     "metadata": {},
     "output_type": "execute_result"
    }
   ],
   "source": [
    "schema"
   ]
  },
  {
   "cell_type": "code",
   "execution_count": 29,
   "id": "f152d585-fdb4-4fec-819d-a72e66f7cf9a",
   "metadata": {},
   "outputs": [],
   "source": [
    "# Create a new Google BigQuery client using Google Cloud Platform project\n",
    "# defaults.\n",
    "client = bigquery.Client()\n",
    "\n",
    "# Prepare a reference to a new dataset for storing the query results.\n",
    "dataset_id = \"wikipedia\"\n",
    "table_name = 'list_of_A24_films'\n",
    "\n",
    "table_id = f\"{dataset_id}.{table_name}\""
   ]
  },
  {
   "cell_type": "code",
   "execution_count": 30,
   "id": "c0c6d6d5-078f-4b94-9954-bf1071df9127",
   "metadata": {},
   "outputs": [
    {
     "data": {
      "text/plain": [
       "'a24-portfolio'"
      ]
     },
     "execution_count": 30,
     "metadata": {},
     "output_type": "execute_result"
    }
   ],
   "source": [
    "client.project"
   ]
  },
  {
   "cell_type": "code",
   "execution_count": 31,
   "id": "2eab56b3-d77e-4afe-b0c0-e02e578ef656",
   "metadata": {},
   "outputs": [
    {
     "data": {
      "text/plain": [
       "LoadJob<project=a24-portfolio, location=US, id=5fbe32f0-743c-4ed8-8a82-8c648dc07b1a>"
      ]
     },
     "execution_count": 31,
     "metadata": {},
     "output_type": "execute_result"
    }
   ],
   "source": [
    "job_config = bigquery.LoadJobConfig(\n",
    "    # Specify a (partial) schema. All columns are always written to the\n",
    "    # table. The schema is used to assist in data type definitions.\n",
    "    \n",
    "    schema=schema,\n",
    "    \n",
    "    # Optionally, set the write disposition. BigQuery appends loaded rows\n",
    "    # to an existing table by default, but with WRITE_TRUNCATE write\n",
    "    # disposition it replaces the table with the loaded data.\n",
    "    \n",
    "    write_disposition=\"WRITE_TRUNCATE\",\n",
    ")\n",
    "\n",
    "job = client.load_table_from_dataframe(\n",
    "    df, table_id, job_config=job_config\n",
    ")  # Make an API request.\n",
    "\n",
    "job.result()  # Wait for the job to complete."
   ]
  },
  {
   "cell_type": "code",
   "execution_count": null,
   "id": "04345d34-ce4c-4bf2-b9dc-2afb0774162a",
   "metadata": {},
   "outputs": [],
   "source": []
  }
 ],
 "metadata": {
  "kernelspec": {
   "display_name": "Python 3 (ipykernel)",
   "language": "python",
   "name": "python3"
  },
  "language_info": {
   "codemirror_mode": {
    "name": "ipython",
    "version": 3
   },
   "file_extension": ".py",
   "mimetype": "text/x-python",
   "name": "python",
   "nbconvert_exporter": "python",
   "pygments_lexer": "ipython3",
   "version": "3.10.5"
  }
 },
 "nbformat": 4,
 "nbformat_minor": 5
}
