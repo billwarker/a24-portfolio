{
 "cells": [
  {
   "cell_type": "code",
   "execution_count": 10,
   "id": "51d9f10b-de28-4784-bc83-6c91c5407c00",
   "metadata": {},
   "outputs": [],
   "source": [
    "import sys\n",
    "from bs4 import BeautifulSoup\n",
    "import requests\n",
    "from datetime import datetime, date"
   ]
  },
  {
   "cell_type": "code",
   "execution_count": 2,
   "id": "4ccb3b7f-ac42-414b-b9b8-6346bcf56f53",
   "metadata": {},
   "outputs": [
    {
     "data": {
      "text/plain": [
       "'3.13.0 (v3.13.0:60403a5409f, Oct  7 2024, 00:37:40) [Clang 15.0.0 (clang-1500.3.9.4)]'"
      ]
     },
     "execution_count": 2,
     "metadata": {},
     "output_type": "execute_result"
    }
   ],
   "source": [
    "sys.version"
   ]
  },
  {
   "cell_type": "code",
   "execution_count": 8,
   "id": "ac124b2f-fa5f-4286-abcc-01dc0318312e",
   "metadata": {},
   "outputs": [],
   "source": [
    "oscars_url = f'https://www.oscars.org/oscars/ceremonies/{datetime.now().year}'"
   ]
  },
  {
   "cell_type": "code",
   "execution_count": 12,
   "id": "10839a4b-179a-4228-b1e6-319d27b80e46",
   "metadata": {},
   "outputs": [],
   "source": [
    "first_year = date(1930,1,1)\n",
    "today = date.today()"
   ]
  },
  {
   "cell_type": "code",
   "execution_count": 16,
   "id": "6977a7af-2552-4711-9554-c9c4524f6d6e",
   "metadata": {},
   "outputs": [],
   "source": [
    "x = range(1930, 2024)"
   ]
  },
  {
   "cell_type": "code",
   "execution_count": 20,
   "id": "4242953d-ccb8-4879-87d0-e1f06437f9c8",
   "metadata": {},
   "outputs": [],
   "source": [
    "start_urls = [f'https://www.oscars.org/oscars/ceremonies/{x}' for x in range(1930, date.today().year + 1)]"
   ]
  },
  {
   "cell_type": "code",
   "execution_count": 21,
   "id": "f362649e-035b-45f6-b9ac-9c49986b49bf",
   "metadata": {},
   "outputs": [
    {
     "data": {
      "text/plain": [
       "['https://www.oscars.org/oscars/ceremonies/1930',\n",
       " 'https://www.oscars.org/oscars/ceremonies/1931',\n",
       " 'https://www.oscars.org/oscars/ceremonies/1932',\n",
       " 'https://www.oscars.org/oscars/ceremonies/1933',\n",
       " 'https://www.oscars.org/oscars/ceremonies/1934',\n",
       " 'https://www.oscars.org/oscars/ceremonies/1935',\n",
       " 'https://www.oscars.org/oscars/ceremonies/1936',\n",
       " 'https://www.oscars.org/oscars/ceremonies/1937',\n",
       " 'https://www.oscars.org/oscars/ceremonies/1938',\n",
       " 'https://www.oscars.org/oscars/ceremonies/1939',\n",
       " 'https://www.oscars.org/oscars/ceremonies/1940',\n",
       " 'https://www.oscars.org/oscars/ceremonies/1941',\n",
       " 'https://www.oscars.org/oscars/ceremonies/1942',\n",
       " 'https://www.oscars.org/oscars/ceremonies/1943',\n",
       " 'https://www.oscars.org/oscars/ceremonies/1944',\n",
       " 'https://www.oscars.org/oscars/ceremonies/1945',\n",
       " 'https://www.oscars.org/oscars/ceremonies/1946',\n",
       " 'https://www.oscars.org/oscars/ceremonies/1947',\n",
       " 'https://www.oscars.org/oscars/ceremonies/1948',\n",
       " 'https://www.oscars.org/oscars/ceremonies/1949',\n",
       " 'https://www.oscars.org/oscars/ceremonies/1950',\n",
       " 'https://www.oscars.org/oscars/ceremonies/1951',\n",
       " 'https://www.oscars.org/oscars/ceremonies/1952',\n",
       " 'https://www.oscars.org/oscars/ceremonies/1953',\n",
       " 'https://www.oscars.org/oscars/ceremonies/1954',\n",
       " 'https://www.oscars.org/oscars/ceremonies/1955',\n",
       " 'https://www.oscars.org/oscars/ceremonies/1956',\n",
       " 'https://www.oscars.org/oscars/ceremonies/1957',\n",
       " 'https://www.oscars.org/oscars/ceremonies/1958',\n",
       " 'https://www.oscars.org/oscars/ceremonies/1959',\n",
       " 'https://www.oscars.org/oscars/ceremonies/1960',\n",
       " 'https://www.oscars.org/oscars/ceremonies/1961',\n",
       " 'https://www.oscars.org/oscars/ceremonies/1962',\n",
       " 'https://www.oscars.org/oscars/ceremonies/1963',\n",
       " 'https://www.oscars.org/oscars/ceremonies/1964',\n",
       " 'https://www.oscars.org/oscars/ceremonies/1965',\n",
       " 'https://www.oscars.org/oscars/ceremonies/1966',\n",
       " 'https://www.oscars.org/oscars/ceremonies/1967',\n",
       " 'https://www.oscars.org/oscars/ceremonies/1968',\n",
       " 'https://www.oscars.org/oscars/ceremonies/1969',\n",
       " 'https://www.oscars.org/oscars/ceremonies/1970',\n",
       " 'https://www.oscars.org/oscars/ceremonies/1971',\n",
       " 'https://www.oscars.org/oscars/ceremonies/1972',\n",
       " 'https://www.oscars.org/oscars/ceremonies/1973',\n",
       " 'https://www.oscars.org/oscars/ceremonies/1974',\n",
       " 'https://www.oscars.org/oscars/ceremonies/1975',\n",
       " 'https://www.oscars.org/oscars/ceremonies/1976',\n",
       " 'https://www.oscars.org/oscars/ceremonies/1977',\n",
       " 'https://www.oscars.org/oscars/ceremonies/1978',\n",
       " 'https://www.oscars.org/oscars/ceremonies/1979',\n",
       " 'https://www.oscars.org/oscars/ceremonies/1980',\n",
       " 'https://www.oscars.org/oscars/ceremonies/1981',\n",
       " 'https://www.oscars.org/oscars/ceremonies/1982',\n",
       " 'https://www.oscars.org/oscars/ceremonies/1983',\n",
       " 'https://www.oscars.org/oscars/ceremonies/1984',\n",
       " 'https://www.oscars.org/oscars/ceremonies/1985',\n",
       " 'https://www.oscars.org/oscars/ceremonies/1986',\n",
       " 'https://www.oscars.org/oscars/ceremonies/1987',\n",
       " 'https://www.oscars.org/oscars/ceremonies/1988',\n",
       " 'https://www.oscars.org/oscars/ceremonies/1989',\n",
       " 'https://www.oscars.org/oscars/ceremonies/1990',\n",
       " 'https://www.oscars.org/oscars/ceremonies/1991',\n",
       " 'https://www.oscars.org/oscars/ceremonies/1992',\n",
       " 'https://www.oscars.org/oscars/ceremonies/1993',\n",
       " 'https://www.oscars.org/oscars/ceremonies/1994',\n",
       " 'https://www.oscars.org/oscars/ceremonies/1995',\n",
       " 'https://www.oscars.org/oscars/ceremonies/1996',\n",
       " 'https://www.oscars.org/oscars/ceremonies/1997',\n",
       " 'https://www.oscars.org/oscars/ceremonies/1998',\n",
       " 'https://www.oscars.org/oscars/ceremonies/1999',\n",
       " 'https://www.oscars.org/oscars/ceremonies/2000',\n",
       " 'https://www.oscars.org/oscars/ceremonies/2001',\n",
       " 'https://www.oscars.org/oscars/ceremonies/2002',\n",
       " 'https://www.oscars.org/oscars/ceremonies/2003',\n",
       " 'https://www.oscars.org/oscars/ceremonies/2004',\n",
       " 'https://www.oscars.org/oscars/ceremonies/2005',\n",
       " 'https://www.oscars.org/oscars/ceremonies/2006',\n",
       " 'https://www.oscars.org/oscars/ceremonies/2007',\n",
       " 'https://www.oscars.org/oscars/ceremonies/2008',\n",
       " 'https://www.oscars.org/oscars/ceremonies/2009',\n",
       " 'https://www.oscars.org/oscars/ceremonies/2010',\n",
       " 'https://www.oscars.org/oscars/ceremonies/2011',\n",
       " 'https://www.oscars.org/oscars/ceremonies/2012',\n",
       " 'https://www.oscars.org/oscars/ceremonies/2013',\n",
       " 'https://www.oscars.org/oscars/ceremonies/2014',\n",
       " 'https://www.oscars.org/oscars/ceremonies/2015',\n",
       " 'https://www.oscars.org/oscars/ceremonies/2016',\n",
       " 'https://www.oscars.org/oscars/ceremonies/2017',\n",
       " 'https://www.oscars.org/oscars/ceremonies/2018',\n",
       " 'https://www.oscars.org/oscars/ceremonies/2019',\n",
       " 'https://www.oscars.org/oscars/ceremonies/2020',\n",
       " 'https://www.oscars.org/oscars/ceremonies/2021',\n",
       " 'https://www.oscars.org/oscars/ceremonies/2022',\n",
       " 'https://www.oscars.org/oscars/ceremonies/2023',\n",
       " 'https://www.oscars.org/oscars/ceremonies/2024']"
      ]
     },
     "execution_count": 21,
     "metadata": {},
     "output_type": "execute_result"
    }
   ],
   "source": [
    "start_urls"
   ]
  },
  {
   "cell_type": "code",
   "execution_count": 4,
   "id": "5ee43cbc-7537-4082-af3e-d1436d1cd6b5",
   "metadata": {},
   "outputs": [],
   "source": [
    "params = {'User-Agent': 'Mozilla/5.0 (Macintosh; Intel Mac OS X 10_15_7) AppleWebKit/537.36 (KHTML, like Gecko) Chrome/127.0.0.0 Safari/537.36'}"
   ]
  },
  {
   "cell_type": "markdown",
   "id": "e2cf2585-d5c6-4dae-bb51-6f26a3aff4a5",
   "metadata": {},
   "source": [
    "## Get all Award Categories"
   ]
  },
  {
   "cell_type": "code",
   "execution_count": 5,
   "id": "4b565a6f-7d28-44a7-88e0-701eb3e1416e",
   "metadata": {},
   "outputs": [],
   "source": [
    "result = requests.get(url=oscars_url, params=params)"
   ]
  },
  {
   "cell_type": "code",
   "execution_count": 6,
   "id": "727d55db-1a9d-44c4-a39a-02a8aaccef88",
   "metadata": {},
   "outputs": [
    {
     "data": {
      "text/plain": [
       "{'Server': 'AkamaiGHost', 'Mime-Version': '1.0', 'Content-Type': 'text/html', 'Content-Length': '403', 'Cache-Control': 'max-age=0', 'Expires': 'Sat, 19 Oct 2024 22:33:37 GMT', 'Date': 'Sat, 19 Oct 2024 22:33:37 GMT', 'Connection': 'close'}"
      ]
     },
     "execution_count": 6,
     "metadata": {},
     "output_type": "execute_result"
    }
   ],
   "source": [
    "result.headers"
   ]
  },
  {
   "cell_type": "code",
   "execution_count": 7,
   "id": "f326966e-b38a-4b04-aeeb-858538ea632a",
   "metadata": {},
   "outputs": [
    {
     "data": {
      "text/plain": [
       "403"
      ]
     },
     "execution_count": 7,
     "metadata": {},
     "output_type": "execute_result"
    }
   ],
   "source": [
    "result.status_code"
   ]
  },
  {
   "cell_type": "code",
   "execution_count": 8,
   "id": "6b4d48a9-83f6-46ef-8654-56a872dbe9d1",
   "metadata": {},
   "outputs": [
    {
     "data": {
      "text/plain": [
       "'<HTML><HEAD>\\n<TITLE>Access Denied</TITLE>\\n</HEAD><BODY>\\n<H1>Access Denied</H1>\\n \\nYou don\\'t have permission to access \"http&#58;&#47;&#47;www&#46;oscars&#46;org&#47;oscars&#47;ceremonies&#47;2024&#63;\" on this server.<P>\\nReference&#32;&#35;18&#46;e77f3a17&#46;1729377217&#46;a6d8ab9c\\n<P>https&#58;&#47;&#47;errors&#46;edgesuite&#46;net&#47;18&#46;e77f3a17&#46;1729377217&#46;a6d8ab9c</P>\\n</BODY>\\n</HTML>\\n'"
      ]
     },
     "execution_count": 8,
     "metadata": {},
     "output_type": "execute_result"
    }
   ],
   "source": [
    "result.text"
   ]
  },
  {
   "cell_type": "code",
   "execution_count": 22,
   "id": "a0db2257-60fa-4dc0-9683-13b24b9ff5c5",
   "metadata": {},
   "outputs": [],
   "source": [
    "import re"
   ]
  },
  {
   "cell_type": "code",
   "execution_count": 44,
   "id": "90080c07-8b3a-4132-b360-ef33e5cf9386",
   "metadata": {},
   "outputs": [],
   "source": [
    "replacements = [\n",
    "    'Written by ',\n",
    "    'Story by ',\n",
    "    'Screenplay by ',\n",
    "    'Screenplay - ',\n",
    "    'Screenplay by ',\n",
    "    'Written for the screen by ',\n",
    "    'Set Decoration: ',\n",
    "    'Production Design: ',\n",
    "    'Lyric by ',\n",
    "    ',Producers'\n",
    "    ]"
   ]
  },
  {
   "cell_type": "code",
   "execution_count": 46,
   "id": "2f5012b2-0c69-47a6-8c43-ae5d28ad6f02",
   "metadata": {},
   "outputs": [],
   "source": [
    "pattern = \"|\".join(replacements)"
   ]
  },
  {
   "cell_type": "code",
   "execution_count": 47,
   "id": "367f293c-1fb5-43fc-9798-c7f7bc04298e",
   "metadata": {},
   "outputs": [
    {
     "data": {
      "text/plain": [
       "'Written by |Story by |Screenplay by |Screenplay - |Screenplay by |Written for the screen by |Set Decoration: |Production Design: |Lyric by |,Producers'"
      ]
     },
     "execution_count": 47,
     "metadata": {},
     "output_type": "execute_result"
    }
   ],
   "source": [
    "pattern"
   ]
  },
  {
   "cell_type": "code",
   "execution_count": 40,
   "id": "9f45304b-9620-48c9-98b4-19eec7770edf",
   "metadata": {},
   "outputs": [],
   "source": [
    "pattern = \"|\".join(replacements)"
   ]
  },
  {
   "cell_type": "code",
   "execution_count": 41,
   "id": "bef60cbc-909e-4e28-8766-4ec6cae909b8",
   "metadata": {},
   "outputs": [],
   "source": [
    "text = 'Written by Will Barker'"
   ]
  },
  {
   "cell_type": "code",
   "execution_count": 33,
   "id": "12966701-9378-4b68-ada5-4bbb097ef063",
   "metadata": {},
   "outputs": [
    {
     "data": {
      "text/plain": [
       "'Will Barker'"
      ]
     },
     "execution_count": 33,
     "metadata": {},
     "output_type": "execute_result"
    }
   ],
   "source": [
    "re.sub(pattern, '', text)"
   ]
  },
  {
   "cell_type": "code",
   "execution_count": null,
   "id": "a80f6930-b522-4970-b473-c53e7cbc814e",
   "metadata": {},
   "outputs": [],
   "source": []
  }
 ],
 "metadata": {
  "kernelspec": {
   "display_name": "a24-portfolio-venv",
   "language": "python",
   "name": "a24-portfolio-venv"
  },
  "language_info": {
   "codemirror_mode": {
    "name": "ipython",
    "version": 3
   },
   "file_extension": ".py",
   "mimetype": "text/x-python",
   "name": "python",
   "nbconvert_exporter": "python",
   "pygments_lexer": "ipython3",
   "version": "3.13.0"
  }
 },
 "nbformat": 4,
 "nbformat_minor": 5
}
